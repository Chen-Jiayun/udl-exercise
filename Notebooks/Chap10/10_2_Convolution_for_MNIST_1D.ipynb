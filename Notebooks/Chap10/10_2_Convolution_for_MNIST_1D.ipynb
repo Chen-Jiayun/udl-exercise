{
  "cells": [
    {
      "cell_type": "markdown",
      "metadata": {
        "colab_type": "text",
        "id": "view-in-github"
      },
      "source": [
        "<a href=\"https://colab.research.google.com/github/udlbook/udlbook/blob/main/Notebooks/Chap10/10_2_Convolution_for_MNIST_1D.ipynb\" target=\"_parent\"><img src=\"https://colab.research.google.com/assets/colab-badge.svg\" alt=\"Open In Colab\"/></a>"
      ]
    },
    {
      "cell_type": "markdown",
      "metadata": {
        "id": "t9vk9Elugvmi"
      },
      "source": [
        "# **Notebook 10.2: Convolution for MNIST-1D**\n",
        "\n",
        "This notebook investigates a 1D convolutional network for MNIST-1D as in figure 10.7 and 10.8a.\n",
        "\n",
        "Work through the cells below, running each cell in turn. In various places you will see the words \"TO DO\". Follow the instructions at these places and make predictions about what is going to happen or write code to complete the functions.\n",
        "\n",
        "Contact me at udlbookmail@gmail.com if you find any mistakes or have any suggestions.\n",
        "\n"
      ]
    },
    {
      "cell_type": "code",
      "execution_count": null,
      "metadata": {
        "id": "D5yLObtZCi9J"
      },
      "outputs": [],
      "source": [
        "# Run this if you're in a Colab to install MNIST 1D repository\n",
        "!pip install git+https://github.com/greydanus/mnist1d"
      ]
    },
    {
      "cell_type": "code",
      "execution_count": 1,
      "metadata": {
        "id": "YrXWAH7sUWvU"
      },
      "outputs": [],
      "source": [
        "import numpy as np\n",
        "import os\n",
        "import torch, torch.nn as nn\n",
        "from torch.utils.data import TensorDataset, DataLoader\n",
        "from torch.optim.lr_scheduler import StepLR\n",
        "import matplotlib.pyplot as plt\n",
        "import mnist1d\n",
        "import random"
      ]
    },
    {
      "cell_type": "code",
      "execution_count": 2,
      "metadata": {
        "id": "twI72ZCrCt5z"
      },
      "outputs": [
        {
          "name": "stdout",
          "output_type": "stream",
          "text": [
            "Did or could not load data from ./mnist1d_data.pkl. Rebuilding dataset...\n",
            "Examples in training set: 4000\n",
            "Examples in test set: 1000\n",
            "Length of each example: 40\n"
          ]
        }
      ],
      "source": [
        "args = mnist1d.data.get_dataset_args()\n",
        "data = mnist1d.data.get_dataset(args, path='./mnist1d_data.pkl', download=False, regenerate=False)\n",
        "\n",
        "# The training and test input and outputs are in\n",
        "# data['x'], data['y'], data['x_test'], and data['y_test']\n",
        "print(\"Examples in training set: {}\".format(len(data['y'])))\n",
        "print(\"Examples in test set: {}\".format(len(data['y_test'])))\n",
        "print(\"Length of each example: {}\".format(data['x'].shape[-1]))"
      ]
    },
    {
      "cell_type": "code",
      "execution_count": 3,
      "metadata": {
        "id": "8bKADvLHbiV5"
      },
      "outputs": [
        {
          "name": "stdout",
          "output_type": "stream",
          "text": [
            "Train data: 4000 examples (columns), each of which has 40 dimensions (rows)\n",
            "Validation data: 1000 examples (columns), each of which has 40 dimensions (rows)\n"
          ]
        }
      ],
      "source": [
        "# Load in the data\n",
        "train_data_x = data['x'].transpose()\n",
        "train_data_y = data['y']\n",
        "val_data_x = data['x_test'].transpose()\n",
        "val_data_y = data['y_test']\n",
        "# Print out sizes\n",
        "print(\"Train data: %d examples (columns), each of which has %d dimensions (rows)\"%((train_data_x.shape[1],train_data_x.shape[0])))\n",
        "print(\"Validation data: %d examples (columns), each of which has %d dimensions (rows)\"%((val_data_x.shape[1],val_data_x.shape[0])))"
      ]
    },
    {
      "cell_type": "markdown",
      "metadata": {
        "id": "_sFvRDGrl4qe"
      },
      "source": [
        "Define the network"
      ]
    },
    {
      "cell_type": "code",
      "execution_count": 4,
      "metadata": {
        "id": "FslroPJJffrh"
      },
      "outputs": [],
      "source": [
        "# There are 40 input dimensions and 10 output dimensions for this data\n",
        "# The inputs correspond to the 40 offsets in the MNIST1D template.\n",
        "D_i = 40\n",
        "# The outputs correspond to the 10 digits\n",
        "D_o = 10\n",
        "\n",
        "\n",
        "# TODO Create a model with the following layers\n",
        "# 1. Convolutional layer, (input=length 40 and 1 channel, kernel size 3, stride 2, padding=\"valid\", 15 output channels )\n",
        "# 2. ReLU\n",
        "# 3. Convolutional layer, (input=length 19 and 15 channels, kernel size 3, stride 2, padding=\"valid\", 15 output channels )\n",
        "# 4. ReLU\n",
        "# 5. Convolutional layer, (input=length 9 and 15 channels, kernel size 3, stride 2, padding=\"valid\", 15 output channels)\n",
        "# 6. ReLU\n",
        "# 7. Flatten (converts 4x15) to length 60\n",
        "# 8. Linear layer (input size = 60, output size = 10)\n",
        "# References:\n",
        "# https://pytorch.org/docs/1.13/generated/torch.nn.Conv1d.html?highlight=conv1d#torch.nn.Conv1d\n",
        "# https://pytorch.org/docs/stable/generated/torch.nn.Flatten.html\n",
        "# https://pytorch.org/docs/1.13/generated/torch.nn.Linear.html?highlight=linear#torch.nn.Linear\n",
        "\n",
        "# NOTE THAT THE CONVOLUTIONAL LAYERS NEED TO TAKE THE NUMBER OF INPUT CHANNELS AS A PARAMETER\n",
        "# AND NOT THE INPUT SIZE.\n",
        "\n",
        "# Replace the following function:\n",
        "model = nn.Sequential(\n",
        "nn.Conv1d(in_channels=1, out_channels=15, kernel_size=3, stride=2, padding=0),\n",
        "nn.ReLU(),\n",
        "nn.Conv1d(in_channels=15, out_channels=15, kernel_size=3, stride=2, padding=0),\n",
        "nn.ReLU(),\n",
        "nn.Conv1d(in_channels=15, out_channels=15, kernel_size=3, stride=2, padding=0),\n",
        "nn.ReLU(),\n",
        "nn.Flatten(),\n",
        "nn.Linear(60, 10)\n",
        ")\n",
        "\n",
        "\n"
      ]
    },
    {
      "cell_type": "code",
      "execution_count": 5,
      "metadata": {
        "id": "YgLaex1pfhqz"
      },
      "outputs": [],
      "source": [
        "# He initialization of weights\n",
        "def weights_init(layer_in):\n",
        "  if isinstance(layer_in, nn.Linear):\n",
        "    nn.init.kaiming_uniform_(layer_in.weight)\n",
        "    layer_in.bias.data.fill_(0.0)"
      ]
    },
    {
      "cell_type": "code",
      "execution_count": 6,
      "metadata": {
        "id": "NYw8I_3mmX5c"
      },
      "outputs": [
        {
          "name": "stdout",
          "output_type": "stream",
          "text": [
            "Epoch     0, train loss 2.067042, train error 79.10,  val loss 2.079981, percent error 79.90\n",
            "Epoch     1, train loss 1.597159, train error 64.60,  val loss 1.625339, percent error 67.50\n",
            "Epoch     2, train loss 1.361408, train error 56.53,  val loss 1.369311, percent error 58.10\n",
            "Epoch     3, train loss 1.268151, train error 51.62,  val loss 1.293229, percent error 54.70\n",
            "Epoch     4, train loss 1.239733, train error 50.62,  val loss 1.283116, percent error 54.40\n",
            "Epoch     5, train loss 1.082541, train error 43.33,  val loss 1.089843, percent error 45.60\n",
            "Epoch     6, train loss 1.024817, train error 42.62,  val loss 1.049421, percent error 43.60\n",
            "Epoch     7, train loss 0.880325, train error 33.78,  val loss 0.920599, percent error 35.60\n",
            "Epoch     8, train loss 0.750142, train error 29.00,  val loss 0.780708, percent error 31.40\n",
            "Epoch     9, train loss 0.684403, train error 26.30,  val loss 0.719393, percent error 30.10\n",
            "Epoch    10, train loss 0.592513, train error 23.00,  val loss 0.648170, percent error 25.40\n",
            "Epoch    11, train loss 0.505219, train error 18.75,  val loss 0.574000, percent error 22.00\n",
            "Epoch    12, train loss 0.436693, train error 16.40,  val loss 0.513724, percent error 20.70\n",
            "Epoch    13, train loss 0.367246, train error 12.93,  val loss 0.451353, percent error 17.80\n",
            "Epoch    14, train loss 0.397324, train error 15.32,  val loss 0.497767, percent error 19.90\n",
            "Epoch    15, train loss 0.309540, train error 11.40,  val loss 0.412102, percent error 14.70\n",
            "Epoch    16, train loss 0.256851, train error 9.35,  val loss 0.384423, percent error 13.60\n",
            "Epoch    17, train loss 0.262612, train error 9.53,  val loss 0.395946, percent error 14.20\n",
            "Epoch    18, train loss 0.396976, train error 13.72,  val loss 0.556707, percent error 17.10\n",
            "Epoch    19, train loss 0.210134, train error 7.85,  val loss 0.348409, percent error 13.00\n",
            "Epoch    20, train loss 0.145782, train error 4.47,  val loss 0.311256, percent error 10.70\n",
            "Epoch    21, train loss 0.134633, train error 4.50,  val loss 0.315550, percent error 10.40\n",
            "Epoch    22, train loss 0.130626, train error 4.10,  val loss 0.326328, percent error 10.40\n",
            "Epoch    23, train loss 0.123298, train error 3.95,  val loss 0.326721, percent error 9.90\n",
            "Epoch    24, train loss 0.109805, train error 3.07,  val loss 0.320769, percent error 9.90\n",
            "Epoch    25, train loss 0.110414, train error 3.70,  val loss 0.322776, percent error 10.70\n",
            "Epoch    26, train loss 0.106060, train error 3.40,  val loss 0.339396, percent error 10.00\n",
            "Epoch    27, train loss 0.102754, train error 3.40,  val loss 0.317838, percent error 9.60\n",
            "Epoch    28, train loss 0.091399, train error 2.93,  val loss 0.355263, percent error 10.30\n",
            "Epoch    29, train loss 0.095766, train error 3.25,  val loss 0.357703, percent error 10.20\n",
            "Epoch    30, train loss 0.106200, train error 3.90,  val loss 0.392238, percent error 11.10\n",
            "Epoch    31, train loss 0.130731, train error 4.43,  val loss 0.435687, percent error 11.20\n",
            "Epoch    32, train loss 0.077599, train error 2.03,  val loss 0.345107, percent error 9.80\n",
            "Epoch    33, train loss 0.068742, train error 2.07,  val loss 0.327376, percent error 9.40\n",
            "Epoch    34, train loss 0.080117, train error 2.47,  val loss 0.373863, percent error 10.40\n",
            "Epoch    35, train loss 0.072521, train error 2.30,  val loss 0.382233, percent error 10.40\n",
            "Epoch    36, train loss 0.072135, train error 2.28,  val loss 0.372519, percent error 9.90\n",
            "Epoch    37, train loss 0.062782, train error 1.88,  val loss 0.351731, percent error 9.60\n",
            "Epoch    38, train loss 0.059915, train error 1.57,  val loss 0.352923, percent error 9.60\n",
            "Epoch    39, train loss 0.071963, train error 2.20,  val loss 0.357507, percent error 9.00\n",
            "Epoch    40, train loss 0.046047, train error 0.93,  val loss 0.347498, percent error 9.20\n",
            "Epoch    41, train loss 0.045000, train error 1.10,  val loss 0.353972, percent error 9.10\n",
            "Epoch    42, train loss 0.042576, train error 0.80,  val loss 0.358550, percent error 9.00\n",
            "Epoch    43, train loss 0.044292, train error 0.82,  val loss 0.371440, percent error 9.10\n",
            "Epoch    44, train loss 0.040275, train error 0.88,  val loss 0.358978, percent error 9.20\n",
            "Epoch    45, train loss 0.040634, train error 0.88,  val loss 0.358162, percent error 8.80\n",
            "Epoch    46, train loss 0.039192, train error 0.95,  val loss 0.361164, percent error 9.50\n",
            "Epoch    47, train loss 0.035405, train error 0.75,  val loss 0.380805, percent error 8.70\n",
            "Epoch    48, train loss 0.039973, train error 0.82,  val loss 0.390449, percent error 8.80\n",
            "Epoch    49, train loss 0.037723, train error 0.78,  val loss 0.381168, percent error 9.20\n",
            "Epoch    50, train loss 0.036132, train error 0.78,  val loss 0.390302, percent error 9.60\n",
            "Epoch    51, train loss 0.034107, train error 0.62,  val loss 0.386106, percent error 9.20\n",
            "Epoch    52, train loss 0.037568, train error 0.90,  val loss 0.398196, percent error 9.60\n",
            "Epoch    53, train loss 0.031895, train error 0.60,  val loss 0.395484, percent error 8.90\n",
            "Epoch    54, train loss 0.032081, train error 0.53,  val loss 0.386190, percent error 9.10\n",
            "Epoch    55, train loss 0.033210, train error 0.72,  val loss 0.394659, percent error 9.40\n",
            "Epoch    56, train loss 0.034738, train error 0.75,  val loss 0.408384, percent error 9.30\n",
            "Epoch    57, train loss 0.032311, train error 0.70,  val loss 0.415627, percent error 9.90\n",
            "Epoch    58, train loss 0.028733, train error 0.45,  val loss 0.401822, percent error 9.40\n",
            "Epoch    59, train loss 0.032686, train error 0.60,  val loss 0.406705, percent error 9.60\n",
            "Epoch    60, train loss 0.026171, train error 0.43,  val loss 0.405400, percent error 9.60\n",
            "Epoch    61, train loss 0.025818, train error 0.35,  val loss 0.401409, percent error 9.20\n",
            "Epoch    62, train loss 0.025039, train error 0.40,  val loss 0.401783, percent error 9.30\n",
            "Epoch    63, train loss 0.025019, train error 0.43,  val loss 0.403857, percent error 9.40\n",
            "Epoch    64, train loss 0.025223, train error 0.40,  val loss 0.418718, percent error 9.60\n",
            "Epoch    65, train loss 0.023993, train error 0.35,  val loss 0.411549, percent error 9.30\n",
            "Epoch    66, train loss 0.025030, train error 0.30,  val loss 0.414799, percent error 9.20\n",
            "Epoch    67, train loss 0.024168, train error 0.38,  val loss 0.423369, percent error 9.60\n",
            "Epoch    68, train loss 0.023626, train error 0.30,  val loss 0.418334, percent error 9.20\n",
            "Epoch    69, train loss 0.023251, train error 0.30,  val loss 0.413243, percent error 9.30\n",
            "Epoch    70, train loss 0.022841, train error 0.25,  val loss 0.421722, percent error 9.40\n",
            "Epoch    71, train loss 0.022677, train error 0.20,  val loss 0.422119, percent error 9.80\n",
            "Epoch    72, train loss 0.022285, train error 0.25,  val loss 0.423473, percent error 9.20\n",
            "Epoch    73, train loss 0.021800, train error 0.25,  val loss 0.428270, percent error 9.30\n",
            "Epoch    74, train loss 0.021514, train error 0.20,  val loss 0.428656, percent error 9.50\n",
            "Epoch    75, train loss 0.021767, train error 0.22,  val loss 0.425634, percent error 9.50\n",
            "Epoch    76, train loss 0.021332, train error 0.30,  val loss 0.428173, percent error 9.60\n",
            "Epoch    77, train loss 0.020874, train error 0.22,  val loss 0.431278, percent error 9.50\n",
            "Epoch    78, train loss 0.020779, train error 0.22,  val loss 0.431560, percent error 9.50\n",
            "Epoch    79, train loss 0.022247, train error 0.35,  val loss 0.439836, percent error 9.50\n",
            "Epoch    80, train loss 0.020160, train error 0.20,  val loss 0.434372, percent error 9.50\n",
            "Epoch    81, train loss 0.020089, train error 0.20,  val loss 0.433355, percent error 9.10\n",
            "Epoch    82, train loss 0.019887, train error 0.25,  val loss 0.434146, percent error 9.20\n",
            "Epoch    83, train loss 0.019753, train error 0.22,  val loss 0.435644, percent error 9.40\n",
            "Epoch    84, train loss 0.019605, train error 0.22,  val loss 0.437669, percent error 9.30\n",
            "Epoch    85, train loss 0.019559, train error 0.18,  val loss 0.439027, percent error 9.60\n",
            "Epoch    86, train loss 0.019426, train error 0.20,  val loss 0.440400, percent error 9.50\n",
            "Epoch    87, train loss 0.020311, train error 0.25,  val loss 0.438264, percent error 9.20\n",
            "Epoch    88, train loss 0.019208, train error 0.20,  val loss 0.437392, percent error 9.30\n",
            "Epoch    89, train loss 0.019015, train error 0.20,  val loss 0.441306, percent error 9.60\n",
            "Epoch    90, train loss 0.018972, train error 0.18,  val loss 0.442542, percent error 9.70\n",
            "Epoch    91, train loss 0.018863, train error 0.20,  val loss 0.442171, percent error 9.40\n",
            "Epoch    92, train loss 0.018860, train error 0.18,  val loss 0.444384, percent error 9.60\n",
            "Epoch    93, train loss 0.018726, train error 0.18,  val loss 0.445347, percent error 9.60\n",
            "Epoch    94, train loss 0.018591, train error 0.20,  val loss 0.446369, percent error 9.60\n",
            "Epoch    95, train loss 0.018434, train error 0.20,  val loss 0.445788, percent error 9.50\n",
            "Epoch    96, train loss 0.018312, train error 0.20,  val loss 0.444917, percent error 9.40\n",
            "Epoch    97, train loss 0.018319, train error 0.18,  val loss 0.444407, percent error 9.60\n",
            "Epoch    98, train loss 0.018166, train error 0.18,  val loss 0.447188, percent error 9.40\n",
            "Epoch    99, train loss 0.018344, train error 0.22,  val loss 0.446557, percent error 9.10\n"
          ]
        },
        {
          "data": {
            "image/png": "[encoded data removed]",
            "text/plain": [
              "<Figure size 640x480 with 1 Axes>"
            ]
          },
          "metadata": {},
          "output_type": "display_data"
        }
      ],
      "source": [
        "# choose cross entropy loss function (equation 5.24 in the loss notes)\n",
        "loss_function = nn.CrossEntropyLoss()\n",
        "# construct SGD optimizer and initialize learning rate and momentum\n",
        "optimizer = torch.optim.SGD(model.parameters(), lr = 0.05, momentum=0.9)\n",
        "# object that decreases learning rate by half every 20 epochs\n",
        "scheduler = StepLR(optimizer, step_size=20, gamma=0.5)\n",
        "# create 100 dummy data points and store in data loader class\n",
        "x_train = torch.tensor(train_data_x.transpose().astype('float32'))\n",
        "y_train = torch.tensor(train_data_y.astype('long')).long()\n",
        "x_val= torch.tensor(val_data_x.transpose().astype('float32'))\n",
        "y_val = torch.tensor(val_data_y.astype('long')).long()\n",
        "\n",
        "# load the data into a class that creates the batches\n",
        "data_loader = DataLoader(TensorDataset(x_train,y_train), batch_size=100, shuffle=True, worker_init_fn=np.random.seed(1))\n",
        "\n",
        "# Initialize model weights\n",
        "model.apply(weights_init)\n",
        "\n",
        "# loop over the dataset n_epoch times\n",
        "n_epoch = 100\n",
        "# store the loss and the % correct at each epoch\n",
        "losses_train = np.zeros((n_epoch))\n",
        "errors_train = np.zeros((n_epoch))\n",
        "losses_val = np.zeros((n_epoch))\n",
        "errors_val = np.zeros((n_epoch))\n",
        "\n",
        "for epoch in range(n_epoch):\n",
        "  # loop over batches\n",
        "  for i, data in enumerate(data_loader):\n",
        "    # retrieve inputs and labels for this batch\n",
        "    x_batch, y_batch = data\n",
        "    # zero the parameter gradients\n",
        "    optimizer.zero_grad()\n",
        "    # forward pass -- calculate model output\n",
        "    pred = model(x_batch[:,None,:])\n",
        "    # compute the loss\n",
        "    loss = loss_function(pred, y_batch)\n",
        "    # backward pass\n",
        "    loss.backward()\n",
        "    # SGD update\n",
        "    optimizer.step()\n",
        "\n",
        "  # Run whole dataset to get statistics -- normally wouldn't do this\n",
        "  pred_train = model(x_train[:,None,:])\n",
        "  pred_val = model(x_val[:,None,:])\n",
        "  _, predicted_train_class = torch.max(pred_train.data, 1)\n",
        "  _, predicted_val_class = torch.max(pred_val.data, 1)\n",
        "  errors_train[epoch] = 100 - 100 * (predicted_train_class == y_train).float().sum() / len(y_train)\n",
        "  errors_val[epoch]= 100 - 100 * (predicted_val_class == y_val).float().sum() / len(y_val)\n",
        "  losses_train[epoch] = loss_function(pred_train, y_train).item()\n",
        "  losses_val[epoch]= loss_function(pred_val, y_val).item()\n",
        "  print(f'Epoch {epoch:5d}, train loss {losses_train[epoch]:.6f}, train error {errors_train[epoch]:3.2f},  val loss {losses_val[epoch]:.6f}, percent error {errors_val[epoch]:3.2f}')\n",
        "\n",
        "  # tell scheduler to consider updating learning rate\n",
        "  scheduler.step()\n",
        "\n",
        "# Plot the results\n",
        "fig, ax = plt.subplots()\n",
        "ax.plot(errors_train,'r-',label='train')\n",
        "ax.plot(errors_val,'b-',label='validation')\n",
        "ax.set_ylim(0,100); ax.set_xlim(0,n_epoch)\n",
        "ax.set_xlabel('Epoch'); ax.set_ylabel('Error')\n",
        "ax.set_title('Part I: Validation Result %3.2f'%(errors_val[-1]))\n",
        "ax.legend()\n",
        "plt.show()"
      ]
    }
  ],
  "metadata": {
    "colab": {
      "authorship_tag": "ABX9TyNb46PJB/CC1pcHGfjpUUZg",
      "include_colab_link": true,
      "provenance": []
    },
    "kernelspec": {
      "display_name": "udl",
      "language": "python",
      "name": "python3"
    },
    "language_info": {
      "codemirror_mode": {
        "name": "ipython",
        "version": 3
      },
      "file_extension": ".py",
      "mimetype": "text/x-python",
      "name": "python",
      "nbconvert_exporter": "python",
      "pygments_lexer": "ipython3",
      "version": "3.11.9"
    }
  },
  "nbformat": 4,
  "nbformat_minor": 0
}
